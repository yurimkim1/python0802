{
    "cells": [
        {
            "cell_type": "code",
            "execution_count": 2,
            "source": [
                "%pylab\r\n",
                "%matplotlib inline\r\n",
                "\r\n",
                "import pandas as pd\r\n",
                "\r\n",
                "plot(arange(10))"
            ],
            "outputs": [
                {
                    "output_type": "stream",
                    "name": "stdout",
                    "text": [
                        "Using matplotlib backend: TkAgg\n",
                        "Populating the interactive namespace from numpy and matplotlib\n"
                    ]
                },
                {
                    "output_type": "execute_result",
                    "data": {
                        "text/plain": [
                            "[<matplotlib.lines.Line2D at 0x22803401ac0>]"
                        ]
                    },
                    "metadata": {},
                    "execution_count": 2
                },
                {
                    "output_type": "display_data",
                    "data": {
                        "text/plain": [
                            "<Figure size 432x288 with 1 Axes>"
                        ],
                        "image/png": "[encoded data removed]"
                    },
                    "metadata": {
                        "needs_background": "light"
                    }
                }
            ],
            "metadata": {}
        },
        {
            "cell_type": "code",
            "execution_count": 5,
            "source": [
                "import pandas as pd\r\n",
                "from pandas import Series, DataFrame\r\n",
                "\r\n",
                "# 실행: shift + enter\r\n",
                "bitcamp = Series([100,200,300,400,500],\r\n",
                "    index=['08-01', '08-02', '08-03', '08-04', '08-05'])\r\n",
                "#type(bitcamp)\r\n",
                "bitcamp[\"08-02\"]"
            ],
            "outputs": [
                {
                    "output_type": "execute_result",
                    "data": {
                        "text/plain": [
                            "200"
                        ]
                    },
                    "metadata": {},
                    "execution_count": 5
                }
            ],
            "metadata": {}
        },
        {
            "cell_type": "code",
            "execution_count": 6,
            "source": [
                "#2차원 행열 데이터(데이터프레임)\r\n",
                "data = {'foreigner':[1,2,3,4,5], 'sratio':[10,20,30,40,50],\r\n",
                "        'org':[100,200,300,400,500], 'sprice':[1,2,3,4,5],\r\n",
                "        'private':[10,20,30,40,50] }\r\n",
                "#데이터 프레임 생성\r\n",
                "frame = DataFrame(data, index=['08-01', '08-02', '08-03', '08-04', '08-05'])\r\n",
                "frame\r\n"
            ],
            "outputs": [
                {
                    "output_type": "execute_result",
                    "data": {
                        "text/plain": [
                            "       foreigner  sratio  org  sprice  private\n",
                            "08-01          1      10  100       1       10\n",
                            "08-02          2      20  200       2       20\n",
                            "08-03          3      30  300       3       30\n",
                            "08-04          4      40  400       4       40\n",
                            "08-05          5      50  500       5       50"
                        ],
                        "text/html": [
                            "<div>\n",
                            "<style scoped>\n",
                            "    .dataframe tbody tr th:only-of-type {\n",
                            "        vertical-align: middle;\n",
                            "    }\n",
                            "\n",
                            "    .dataframe tbody tr th {\n",
                            "        vertical-align: top;\n",
                            "    }\n",
                            "\n",
                            "    .dataframe thead th {\n",
                            "        text-align: right;\n",
                            "    }\n",
                            "</style>\n",
                            "<table border=\"1\" class=\"dataframe\">\n",
                            "  <thead>\n",
                            "    <tr style=\"text-align: right;\">\n",
                            "      <th></th>\n",
                            "      <th>foreigner</th>\n",
                            "      <th>sratio</th>\n",
                            "      <th>org</th>\n",
                            "      <th>sprice</th>\n",
                            "      <th>private</th>\n",
                            "    </tr>\n",
                            "  </thead>\n",
                            "  <tbody>\n",
                            "    <tr>\n",
                            "      <th>08-01</th>\n",
                            "      <td>1</td>\n",
                            "      <td>10</td>\n",
                            "      <td>100</td>\n",
                            "      <td>1</td>\n",
                            "      <td>10</td>\n",
                            "    </tr>\n",
                            "    <tr>\n",
                            "      <th>08-02</th>\n",
                            "      <td>2</td>\n",
                            "      <td>20</td>\n",
                            "      <td>200</td>\n",
                            "      <td>2</td>\n",
                            "      <td>20</td>\n",
                            "    </tr>\n",
                            "    <tr>\n",
                            "      <th>08-03</th>\n",
                            "      <td>3</td>\n",
                            "      <td>30</td>\n",
                            "      <td>300</td>\n",
                            "      <td>3</td>\n",
                            "      <td>30</td>\n",
                            "    </tr>\n",
                            "    <tr>\n",
                            "      <th>08-04</th>\n",
                            "      <td>4</td>\n",
                            "      <td>40</td>\n",
                            "      <td>400</td>\n",
                            "      <td>4</td>\n",
                            "      <td>40</td>\n",
                            "    </tr>\n",
                            "    <tr>\n",
                            "      <th>08-05</th>\n",
                            "      <td>5</td>\n",
                            "      <td>50</td>\n",
                            "      <td>500</td>\n",
                            "      <td>5</td>\n",
                            "      <td>50</td>\n",
                            "    </tr>\n",
                            "  </tbody>\n",
                            "</table>\n",
                            "</div>"
                        ]
                    },
                    "metadata": {},
                    "execution_count": 6
                }
            ],
            "metadata": {}
        },
        {
            "cell_type": "code",
            "execution_count": 7,
            "source": [
                "#하나의 컬럼 슬라이싱\r\n",
                "frame[\"org\"]"
            ],
            "outputs": [
                {
                    "output_type": "execute_result",
                    "data": {
                        "text/plain": [
                            "08-01    100\n",
                            "08-02    200\n",
                            "08-03    300\n",
                            "08-04    400\n",
                            "08-05    500\n",
                            "Name: org, dtype: int64"
                        ]
                    },
                    "metadata": {},
                    "execution_count": 7
                }
            ],
            "metadata": {}
        },
        {
            "cell_type": "code",
            "execution_count": 8,
            "source": [
                "frame.loc[\"08-01\"]"
            ],
            "outputs": [
                {
                    "output_type": "execute_result",
                    "data": {
                        "text/plain": [
                            "foreigner      1\n",
                            "sratio        10\n",
                            "org          100\n",
                            "sprice         1\n",
                            "private       10\n",
                            "Name: 08-01, dtype: int64"
                        ]
                    },
                    "metadata": {},
                    "execution_count": 8
                }
            ],
            "metadata": {}
        },
        {
            "cell_type": "code",
            "execution_count": 9,
            "source": [
                "!type   c:\\work\\ex1.csv"
            ],
            "outputs": [
                {
                    "output_type": "stream",
                    "name": "stdout",
                    "text": [
                        "id, name, price, description\n",
                        "1, iphone, 890000, iphone 6s 7 8 x \n",
                        "2, android, 990000, samsung phone\n",
                        "3, winphone, 450000, microsoft winphone \n"
                    ]
                }
            ],
            "metadata": {}
        },
        {
            "cell_type": "code",
            "execution_count": 13,
            "source": [
                "#텍스트 파일에서 바로 데이터프레임을 생성\r\n",
                "frame2 = pd.read_csv(\"c:\\\\work\\\\ex1.csv\")\r\n",
                "frame2"
            ],
            "outputs": [
                {
                    "output_type": "execute_result",
                    "data": {
                        "text/plain": [
                            "   id       name   price           description\n",
                            "0   1     iphone  890000      iphone 6s 7 8 x \n",
                            "1   2    android  990000         samsung phone\n",
                            "2   3   winphone  450000   microsoft winphone "
                        ],
                        "text/html": [
                            "<div>\n",
                            "<style scoped>\n",
                            "    .dataframe tbody tr th:only-of-type {\n",
                            "        vertical-align: middle;\n",
                            "    }\n",
                            "\n",
                            "    .dataframe tbody tr th {\n",
                            "        vertical-align: top;\n",
                            "    }\n",
                            "\n",
                            "    .dataframe thead th {\n",
                            "        text-align: right;\n",
                            "    }\n",
                            "</style>\n",
                            "<table border=\"1\" class=\"dataframe\">\n",
                            "  <thead>\n",
                            "    <tr style=\"text-align: right;\">\n",
                            "      <th></th>\n",
                            "      <th>id</th>\n",
                            "      <th>name</th>\n",
                            "      <th>price</th>\n",
                            "      <th>description</th>\n",
                            "    </tr>\n",
                            "  </thead>\n",
                            "  <tbody>\n",
                            "    <tr>\n",
                            "      <th>0</th>\n",
                            "      <td>1</td>\n",
                            "      <td>iphone</td>\n",
                            "      <td>890000</td>\n",
                            "      <td>iphone 6s 7 8 x</td>\n",
                            "    </tr>\n",
                            "    <tr>\n",
                            "      <th>1</th>\n",
                            "      <td>2</td>\n",
                            "      <td>android</td>\n",
                            "      <td>990000</td>\n",
                            "      <td>samsung phone</td>\n",
                            "    </tr>\n",
                            "    <tr>\n",
                            "      <th>2</th>\n",
                            "      <td>3</td>\n",
                            "      <td>winphone</td>\n",
                            "      <td>450000</td>\n",
                            "      <td>microsoft winphone</td>\n",
                            "    </tr>\n",
                            "  </tbody>\n",
                            "</table>\n",
                            "</div>"
                        ]
                    },
                    "metadata": {},
                    "execution_count": 13
                }
            ],
            "metadata": {}
        },
        {
            "cell_type": "code",
            "execution_count": null,
            "source": [],
            "outputs": [],
            "metadata": {}
        }
    ],
    "metadata": {
        "orig_nbformat": 4,
        "language_info": {
            "name": "python",
            "version": "3.8.7",
            "mimetype": "text/x-python",
            "codemirror_mode": {
                "name": "ipython",
                "version": 3
            },
            "pygments_lexer": "ipython3",
            "nbconvert_exporter": "python",
            "file_extension": ".py"
        },
        "kernelspec": {
            "name": "python3",
            "display_name": "Python 3.8.7 64-bit"
        },
        "interpreter": {
            "hash": "2db524e06e9f5f4ffedc911c917cb75e12dbc923643829bf417064a77eb14d37"
        }
    },
    "nbformat": 4,
    "nbformat_minor": 2
}